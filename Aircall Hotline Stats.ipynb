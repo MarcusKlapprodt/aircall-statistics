{
 "cells": [
  {
   "cell_type": "code",
   "execution_count": 6,
   "id": "af2a5eb6-a008-4052-bd5d-c6eecd4625ae",
   "metadata": {},
   "outputs": [],
   "source": [
    "import pandas as pd\n",
    "from pathlib import Path\n",
    "import numpy as np\n",
    "import json\n",
    "import requests\n",
    "from requests.auth import HTTPBasicAuth\n",
    "from datetime import datetime, timedelta\n",
    "from dateutil.relativedelta import relativedelta\n",
    "import plotly.express as px"
   ]
  },
  {
   "cell_type": "code",
   "execution_count": 7,
   "id": "70e7c204-aeea-4060-aa6d-3550cfe2fcac",
   "metadata": {},
   "outputs": [],
   "source": [
    "# Setup Pandas\n",
    "pd.set_option('display.max_columns', None)"
   ]
  },
  {
   "cell_type": "code",
   "execution_count": 8,
   "id": "65669b03-32a3-4baf-be86-14d90173c70c",
   "metadata": {},
   "outputs": [],
   "source": [
    "# Set up Teams\n",
    "with Path(Path.home(), '.aircall', 'teams.json').open() as team: \n",
    "    teams = json.load(team)"
   ]
  },
  {
   "cell_type": "code",
   "execution_count": 9,
   "id": "f5f368dd-21b8-497c-a80f-d2424f18e4ef",
   "metadata": {
    "scrolled": true
   },
   "outputs": [],
   "source": [
    "# get the API Key\n",
    "with Path(Path.home(), \".aircall\", \"aircall_credentials.json\").open() as f:\n",
    "    apicreds = json.load(f)"
   ]
  },
  {
   "cell_type": "code",
   "execution_count": 10,
   "id": "434c94a7-4f09-4269-8438-9ad9e83caabf",
   "metadata": {},
   "outputs": [],
   "source": [
    "# Setup Aircall API\n",
    "api_id = apicreds['api_key']['api_id']\n",
    "api_token = apicreds['api_key']['api_token']\n",
    "aircall_base_url = \"https://api.aircall.io/v1\"\n",
    "ac_auth = HTTPBasicAuth(api_id, api_token)"
   ]
  },
  {
   "cell_type": "code",
   "execution_count": 11,
   "id": "482b1e1b-b40c-4795-833e-fceaca512da8",
   "metadata": {},
   "outputs": [
    {
     "name": "stdout",
     "output_type": "stream",
     "text": [
      "Response: 200 ✅\n"
     ]
    }
   ],
   "source": [
    "# Make a test call\n",
    "response = requests.get(\"https://api.aircall.io/v1/ping\", auth=ac_auth)\n",
    "if response.status_code == 200: print(\"Response: 200 ✅\")"
   ]
  },
  {
   "cell_type": "markdown",
   "id": "3eeeaffb-2715-4d50-ab93-f3dd43115112",
   "metadata": {},
   "source": [
    "# Get specific calls that match a given filter"
   ]
  },
  {
   "cell_type": "code",
   "execution_count": 12,
   "id": "8d36be27-1cdb-4fe3-bf0a-1b222dfc2b0c",
   "metadata": {},
   "outputs": [],
   "source": [
    "# Setup the time window\n",
    "\n",
    "def time_window(start_time=datetime.today() - timedelta(days=1)):\n",
    "    dt = start_time.replace(hour=7, minute=0, second=0, microsecond=0)\n",
    "    start_period_datetime = dt\n",
    "    end_period_datetime = start_period_datetime + relativedelta(months=1)\n",
    "    if (end_period_datetime) > datetime.today():\n",
    "        end_period_datetime = datetime.today()\n",
    "    start_period_unix = pd.Timestamp(start_period_datetime).timestamp()\n",
    "    end_period_unix = pd.Timestamp(end_period_datetime).timestamp()\n",
    "\n",
    "    window = {\n",
    "        'start_period_datetime' : start_period_datetime, \n",
    "        'end_period_datetime' : end_period_datetime, \n",
    "        'start_period_unix' : start_period_unix,\n",
    "        'end_period_unix' : end_period_unix        \n",
    "    }\n",
    "\n",
    "    return window"
   ]
  },
  {
   "cell_type": "code",
   "execution_count": 13,
   "id": "a36c9987-ff87-442e-91d6-56c88cdda1d7",
   "metadata": {},
   "outputs": [],
   "source": [
    "def search_call(starttime=(datetime.today() - timedelta(days=1)).timestamp(), endtime=datetime.today().timestamp(), per_page=50, page=1):\n",
    "    calls_endpoint_addr = aircall_base_url + '/calls/search'\n",
    "\n",
    "    # Define the parameters\n",
    "    params = {\n",
    "        'from': starttime,\n",
    "        'to': endtime,\n",
    "        'per_page': per_page,\n",
    "        'page' : page\n",
    "        }\n",
    "\n",
    "    # Call the endpoint\n",
    "    get_calls = requests.get(calls_endpoint_addr, auth=ac_auth, params=params)\n",
    "    return json.loads(get_calls.text)"
   ]
  },
  {
   "cell_type": "code",
   "execution_count": 14,
   "id": "65f64788-4af4-4247-bf95-677ed4ee02b1",
   "metadata": {},
   "outputs": [],
   "source": [
    "# format calls in a pandas DataFrame\n",
    "\n",
    "def create_calls_dataframe(calls_request=[{'started_at':0,'answered_at':0, 'ended_at':0}]):\n",
    "    # Create DataFrame\n",
    "    calls_df = pd.DataFrame(calls_request)\n",
    "    \n",
    "    # Format date columns\n",
    "    if 'started_at' in calls_df:\n",
    "        calls_df['call_start_at'] = pd.to_datetime(calls_df['started_at'], unit='s')\n",
    "    if 'answered_at' in calls_df:\n",
    "        calls_df['call_ansered_at'] = pd.to_datetime(calls_df['answered_at'], unit='s')\n",
    "    if 'ended_at' in calls_df:\n",
    "        calls_df['call_end_at'] = pd.to_datetime(calls_df['ended_at'], unit='s')\n",
    "\n",
    "    return calls_df"
   ]
  },
  {
   "cell_type": "code",
   "execution_count": 15,
   "id": "f871a1e8-8044-49ea-843a-063755a3d29b",
   "metadata": {},
   "outputs": [],
   "source": [
    "# Get all calls in a loop\n",
    "def search_calls_dataframe(starttime=(datetime.today() - timedelta(days=1)).timestamp(), endtime=datetime.today().timestamp(), per_page=50, pages=2):\n",
    "    per_page = 50\n",
    "    page = 1\n",
    "    calls_list = []\n",
    "    meta_list = []\n",
    "\n",
    "    # Get the total number of elements in the request\n",
    "    totals = calls_json = search_call(starttime=starttime, per_page=1)['meta']['total']\n",
    "    total_items = int(totals)\n",
    "\n",
    "    # Calculate how many pages have to be retrieved and how much rest\n",
    "    pages_to_retrieve = int(total_items/per_page)\n",
    "    items_left = total_items - (pages_to_retrieve * per_page)\n",
    "    print(f'Total items: {total_items}. Pages to retrieve: {pages_to_retrieve}. Rest Items: {items_left}')\n",
    "\n",
    "    # Bulk-Loop over all Pages from the start-point\n",
    "    for i in range(pages_to_retrieve):\n",
    "        print(f'Pages to retrieve: {pages_to_retrieve}. Current page: {page}')\n",
    "        calls_json = search_call(starttime=starttime, endtime=endtime, per_page=per_page, page=page)\n",
    "        if 'calls' in calls_json:\n",
    "            calls_list.extend(calls_json['calls'])\n",
    "            print(f'last item in list: {calls_list[-1][\"started_at\"]}')\n",
    "        page = page + 1\n",
    "        if page >= pages_to_retrieve + 1:\n",
    "            break\n",
    "    # Calculate the Calls per page for the last three requests\n",
    "    items_left_bisected = int(items_left/2)\n",
    "    items_rest = items_left - items_left_bisected*2\n",
    "\n",
    "    ## Get the rest of the items on the last page\n",
    "    calls_json = search_call(starttime=starttime, endtime=endtime, per_page=items_left, page=page)\n",
    "    if 'calls' in calls_json:\n",
    "        calls_list.extend(calls_json['calls'])\n",
    "            \n",
    "    print(f'end of page. Pages to retrieve: {pages_to_retrieve}. Current page: {page}')\n",
    "    \n",
    "    return create_calls_dataframe(calls_list)\n",
    "    "
   ]
  },
  {
   "cell_type": "markdown",
   "id": "52f88559-e6a8-4d69-9ea6-a09ce0f74a67",
   "metadata": {},
   "source": [
    "## Request the calls in the given timeframe"
   ]
  },
  {
   "cell_type": "code",
   "execution_count": 20,
   "id": "074e52a0-8649-416a-8660-e78ffcadbdac",
   "metadata": {},
   "outputs": [],
   "source": [
    "starttime = datetime(2024, 7, 1, 7, 00).timestamp()\n",
    "endtime = datetime(2024, 7, 31, 23, 00).timestamp()\n",
    "# calls_list = search_calls_dataframe(starttime=starttime, endtime=endtime)"
   ]
  },
  {
   "cell_type": "code",
   "execution_count": 22,
   "id": "87147df7-746e-4adf-a16f-3f7b024f11a9",
   "metadata": {},
   "outputs": [
    {
     "data": {
      "text/plain": [
       "(1004, 31)"
      ]
     },
     "execution_count": 22,
     "metadata": {},
     "output_type": "execute_result"
    }
   ],
   "source": [
    "calls_list.shape"
   ]
  },
  {
   "cell_type": "markdown",
   "id": "499c8ee6-feb6-43cc-b2b5-b314c1ddca2c",
   "metadata": {},
   "source": [
    "# Preparation for Statistics"
   ]
  },
  {
   "cell_type": "code",
   "execution_count": 25,
   "id": "bdef8f15-3d3a-4b77-8360-f61030ca443d",
   "metadata": {},
   "outputs": [],
   "source": [
    "## Drop colums that are not needed and expand json in columns\n",
    "all_calls_df = calls_list\n",
    "calls_list['teams_expanded'] = pd.json_normalize(calls_list.teams)\n",
    "calls_cleaned_user_expand1 = pd.json_normalize(calls_list.user)\n",
    "calls_cleaned_user_expand = calls_cleaned_user_expand1.rename(columns={\"name\": \"name_user\", \"id\":\"id_user\", \"email\": \"email_user\", \n",
    "                                                                       \"available\":\"available_user\", \"availability_status\":\"availability_status_user\", \n",
    "                                                                       \"created_at\":\"created_at_user\", \"time_zone\":\"time_zone_user\", \n",
    "                                                                       \"language\":\"language_user\",\"wrap_up_time\":\"wrap_up_time_user\"})\n",
    "calls_cleaned_team_expand1 = pd.json_normalize(calls_list.teams_expanded)\n",
    "calls_cleaned_team_expand = calls_cleaned_team_expand1.rename(columns={\"name\": \"name_team\", \"id\":\"id_team\", \"direct_link\":\"direct_link_team\",\n",
    "                                                                      \"created_at\":\"created_at_team\"})\n",
    "calls_cleaned_team_expand['id_team'] = calls_cleaned_team_expand.id_team.astype('Int64')\n",
    "\n",
    "calls_cleaned_number_expand1 = pd.json_normalize(calls_list.number)\n",
    "calls_cleaned_number_expand = calls_cleaned_number_expand1.rename(columns={\"id\":\"id_num\", \"direct_link\":\"direct_link_num\", \"name\":\"name_num\", \"digits\":\"digits_num\", \n",
    "                                                                           \"country\":\"country_num\", \"time_zone\":\"time_zone_num\",\"open\":\"open_num\",\n",
    "                                                                           \"availability_status\":\"availability_status_num\", \"is_ivr\":\"is_ivr_num\", \n",
    "                                                                           \"live_recording_activated\":\"live_recording_activated_num\", \"priority\":\"priority_num\",\n",
    "                                                                           \"created\":\"created_at_num\", \"messages.welcome\":\"messages.welcome_num\", \n",
    "                                                                           \"messages.waiting\":\"messages.waiting_num\",\"messages.ivr\":\"messages.ivr_num\",\n",
    "                                                                           \"messages.voicemail\":\"messages.voicemail_num\",\"messages.closed\":\"messages.closed_num\",\n",
    "                                                                           \"messages.callback_later\":\"messages.callback_later_num\",\"messages.unanswered_call\":\"messages.unanswered_call_num\",\n",
    "                                                                           \"messages.after_hours\":\"messages.after_hours_num\", \"messages.ringing_tone\":\"messages.ringing_tone_num\"})\n",
    "\n",
    "\n",
    "## Join all Tables\n",
    "all_calls_new = all_calls_df.join(calls_cleaned_user_expand, lsuffix='_calls', rsuffix='_users')\n",
    "all_calls_new_joined_1 = all_calls_new.join(calls_cleaned_team_expand, lsuffix='_users', rsuffix='_teams')\n",
    "all_calls_new_joined = all_calls_new_joined_1.join(calls_cleaned_number_expand, lsuffix='_original', rsuffix='_number')\n"
   ]
  },
  {
   "cell_type": "code",
   "execution_count": 26,
   "id": "add4c89a-8b51-436f-aa25-c2e405d41d29",
   "metadata": {},
   "outputs": [],
   "source": [
    "# Get the columns for datetimes\n",
    "all_calls_new_joined['start_dt'] = pd.to_datetime(all_calls_new_joined['started_at'].astype(int,errors='ignore'),unit='s')\n",
    "all_calls_new_joined['answer_dt'] = pd.to_datetime(all_calls_new_joined['answered_at'].astype(int,errors='ignore'),unit='s')\n",
    "all_calls_new_joined['end_dt'] = pd.to_datetime(all_calls_new_joined['ended_at'].astype(int,errors='ignore'),unit='s')"
   ]
  },
  {
   "cell_type": "code",
   "execution_count": 27,
   "id": "93a790b1-3909-43a7-8e90-7e91713fb1cc",
   "metadata": {},
   "outputs": [],
   "source": [
    "## Get the columns for days\n",
    "all_calls_new_joined['start_day'] = all_calls_new_joined['start_dt'].dt.date\n",
    "all_calls_new_joined['answer_day'] = all_calls_new_joined['answer_dt'].dt.date\n",
    "all_calls_new_joined['end_day'] = all_calls_new_joined['end_dt'].dt.date"
   ]
  },
  {
   "cell_type": "code",
   "execution_count": 28,
   "id": "d5ffb272-fea7-44dd-b340-06c3e61792da",
   "metadata": {},
   "outputs": [],
   "source": [
    "## Get the columns for hours\n",
    "all_calls_new_joined['start_hour'] = all_calls_new_joined['start_dt'].dt.hour\n",
    "all_calls_new_joined['answer_hour'] = all_calls_new_joined['answer_dt'].dt.hour\n",
    "all_calls_new_joined['end_hour'] = all_calls_new_joined['end_dt'].dt.hour\n",
    "all_calls_new_joined['duration_minutes'] = all_calls_new_joined['duration'].apply(lambda x: np.round(x/60,2))"
   ]
  },
  {
   "cell_type": "code",
   "execution_count": 29,
   "id": "9fcdd6aa-992f-434f-a4cf-188c8dbbf2db",
   "metadata": {},
   "outputs": [],
   "source": [
    "all_calls_new_joined['start_weekday'] = all_calls_new_joined['start_dt'].dt.day_name()\n",
    "all_calls_new_joined['answer_weekday'] = all_calls_new_joined['answer_dt'].dt.day_name()\n",
    "all_calls_new_joined['end_weekday'] = all_calls_new_joined['end_dt'].dt.day_name()"
   ]
  },
  {
   "cell_type": "code",
   "execution_count": 30,
   "id": "5534ec11-c635-4bf6-9617-b0904277554e",
   "metadata": {},
   "outputs": [],
   "source": [
    "# Get the columns for calendar week\n",
    "all_calls_new_joined['start_calendarweek'] = all_calls_new_joined['start_dt'].dt.isocalendar().week\n",
    "all_calls_new_joined['answer_calendarweek'] = all_calls_new_joined['answer_dt'].dt.isocalendar().week\n",
    "all_calls_new_joined['end_calendarweek'] = all_calls_new_joined['end_dt'].dt.isocalendar().week"
   ]
  },
  {
   "cell_type": "code",
   "execution_count": 31,
   "id": "5d680b58-f833-4e5d-b080-90ef9102381b",
   "metadata": {},
   "outputs": [],
   "source": [
    "## Create final list for statistics\n",
    "\n",
    "calls = all_calls_new_joined[['id','id_num','name_num','digits_num','status','direction','call_start_at','call_ansered_at','call_end_at',\n",
    "                              'duration','missed_call_reason','id_team','name_team','raw_digits','user','contact','archived','assigned_to','tags',\n",
    "                              'transferred_by','transferred_to','comments','country_code_a2','id_user','direct_link_users','name_user','email_user',\n",
    "                              'available_user','availability_status_user','created_at_user','time_zone_user','language_user','wrap_up_time_user',\n",
    "                              'country_num','time_zone_num','open_num','availability_status_num','is_ivr_num','live_recording_activated_num',\n",
    "                              'priority_num','created_at','start_dt','answer_dt','end_dt','start_day','answer_day','end_day','start_hour',\n",
    "                              'answer_hour','end_hour','duration_minutes', 'start_weekday', 'answer_weekday','end_weekday','start_calendarweek','answer_calendarweek','end_calendarweek']]"
   ]
  },
  {
   "cell_type": "code",
   "execution_count": 32,
   "id": "a06c0a84-ec44-402d-8d41-45bc3dbb761f",
   "metadata": {},
   "outputs": [],
   "source": [
    "## That whole thing as a function\n",
    "\n",
    "def cleanupCallsDF(calls_table = []):\n",
    "    calls_list = calls_table\n",
    "    \n",
    "    if 'teams_expanded' in calls_list:\n",
    "        calls_list['teams_expanded'] = pd.json_normalize(calls_list.teams)\n",
    "        calls_cleaned_user_expand1 = pd.json_normalize(calls_list.user)\n",
    "        calls_cleaned_user_expand = calls_cleaned_user_expand1.rename(columns={\"name\": \"name_user\", \"id\":\"id_user\", \"email\": \"email_user\", \n",
    "                                                                               \"available\":\"available_user\", \"availability_status\":\"availability_status_user\", \n",
    "                                                                               \"created_at\":\"created_at_user\", \"time_zone\":\"time_zone_user\", \n",
    "                                                                               \"language\":\"language_user\",\"wrap_up_time\":\"wrap_up_time_user\"})\n",
    "        calls_cleaned_team_expand1 = pd.json_normalize(calls_list.teams_expanded)\n",
    "        calls_cleaned_team_expand = calls_cleaned_team_expand1.rename(columns={\"name\": \"name_team\", \"id\":\"id_team\", \"direct_link\":\"direct_link_team\",\n",
    "                                                                              \"created_at\":\"created_at_team\"})\n",
    "        calls_cleaned_team_expand['id_team'] = calls_cleaned_team_expand.id_team.astype('Int64')\n",
    "        \n",
    "        calls_cleaned_number_expand1 = pd.json_normalize(calls_list.number)\n",
    "        calls_cleaned_number_expand = calls_cleaned_number_expand1.rename(columns={\"id\":\"id_num\", \"direct_link\":\"direct_link_num\", \"name\":\"name_num\", \"digits\":\"digits_num\", \n",
    "                                                                                   \"country\":\"country_num\", \"time_zone\":\"time_zone_num\",\"open\":\"open_num\",\n",
    "                                                                                   \"availability_status\":\"availability_status_num\", \"is_ivr\":\"is_ivr_num\", \n",
    "                                                                                   \"live_recording_activated\":\"live_recording_activated_num\", \"priority\":\"priority_num\",\n",
    "                                                                                   \"created\":\"created_at_num\", \"messages.welcome\":\"messages.welcome_num\", \n",
    "                                                                                   \"messages.waiting\":\"messages.waiting_num\",\"messages.ivr\":\"messages.ivr_num\",\n",
    "                                                                                   \"messages.voicemail\":\"messages.voicemail_num\",\"messages.closed\":\"messages.closed_num\",\n",
    "                                                                                   \"messages.callback_later\":\"messages.callback_later_num\",\"messages.unanswered_call\":\"messages.unanswered_call_num\",\n",
    "                                                                                   \"messages.after_hours\":\"messages.after_hours_num\", \"messages.ringing_tone\":\"messages.ringing_tone_num\"})\n",
    "        \n",
    "    \n",
    "        ## Join all Tables\n",
    "        all_calls_new = all_calls_df.join(calls_cleaned_user_expand, lsuffix='_calls', rsuffix='_users')\n",
    "        all_calls_new_joined_1 = all_calls_new.join(calls_cleaned_team_expand, lsuffix='_users', rsuffix='_teams')\n",
    "        all_calls_new_joined = all_calls_new_joined_1.join(calls_cleaned_number_expand, lsuffix='_original', rsuffix='_number')\n",
    "    \n",
    "    return ''"
   ]
  },
  {
   "cell_type": "markdown",
   "id": "2d56ccf9-4749-47f5-bf31-fd1b7f5f4518",
   "metadata": {},
   "source": [
    "# Hotlines"
   ]
  },
  {
   "cell_type": "code",
   "execution_count": 33,
   "id": "f8c235c1-ed2b-4c54-bc04-6f2107376380",
   "metadata": {},
   "outputs": [],
   "source": [
    "### Configure the table for holtines\n",
    "hotlines_df = calls[calls['name_num'].isin(teams['hotlines'])]"
   ]
  },
  {
   "cell_type": "markdown",
   "id": "94534682-2976-4296-addc-1c7a0f0834c5",
   "metadata": {},
   "source": [
    "### How many calls does each hotline receive?"
   ]
  },
  {
   "cell_type": "code",
   "execution_count": 34,
   "id": "df6198b2-46f2-4f83-8565-a3b71e9740b7",
   "metadata": {},
   "outputs": [
    {
     "name": "stdout",
     "output_type": "stream",
     "text": [
      "Calls per hotline between2024-07-01 07:00:00 and 2024-07-31 23:00:00\n"
     ]
    }
   ],
   "source": [
    "piv_hotline_calls = pd.pivot_table(hotlines_df, index='name_num', columns='direction', values='id', aggfunc='count', margins=True)\n",
    "print(f'Calls per hotline between{datetime.fromtimestamp(starttime)} and {datetime.fromtimestamp(endtime)}')\n",
    "# piv_hotline_calls.fillna('-')"
   ]
  },
  {
   "cell_type": "code",
   "execution_count": 35,
   "id": "8a91700b-34d9-4a81-9b20-84b5c6397f86",
   "metadata": {},
   "outputs": [],
   "source": [
    "only_support = hotlines_df[hotlines_df['name_num']=='DE Tech Support']\n",
    "# only_support[only_support['direction']=='outbound']"
   ]
  },
  {
   "cell_type": "markdown",
   "id": "b3391f9d-90fe-4702-99b8-6d242ee6f832",
   "metadata": {},
   "source": [
    "### During wich hour do we receive the most calls?"
   ]
  },
  {
   "cell_type": "code",
   "execution_count": 36,
   "id": "724a1d89-b2ff-416b-a7fe-b436cfb716f8",
   "metadata": {},
   "outputs": [
    {
     "name": "stdout",
     "output_type": "stream",
     "text": [
      "Incoming Calls (per hour) between 2024-07-01 07:00:00 and 2024-07-31 23:00:00\n"
     ]
    }
   ],
   "source": [
    "print(f'Incoming Calls (per hour) between {datetime.fromtimestamp(starttime)} and {datetime.fromtimestamp(endtime)}')\n",
    "calls_per_hours = pd.pivot_table(hotlines_df, index='start_hour', values='duration_minutes', aggfunc='count', margins=True)\n",
    "# calls_per_hours"
   ]
  },
  {
   "cell_type": "markdown",
   "id": "6297ac2d-ecfb-4c9f-9959-71223f741dd6",
   "metadata": {},
   "source": [
    "## How many calls per weekday?"
   ]
  },
  {
   "cell_type": "code",
   "execution_count": 37,
   "id": "fee76503-45d1-4160-9e6b-92ea2b7990a5",
   "metadata": {},
   "outputs": [
    {
     "name": "stdout",
     "output_type": "stream",
     "text": [
      "Weekly Calls per Day of the Week 2024-07-01 07:00:00 and 2024-07-31 23:00:00\n"
     ]
    }
   ],
   "source": [
    "## Condensed view:\n",
    "\n",
    "print(f'Weekly Calls per Day of the Week {datetime.fromtimestamp(starttime)} and {datetime.fromtimestamp(endtime)}')\n",
    "calls_per_weekday = pd.pivot_table(hotlines_df[hotlines_df['name_num'].isin(['EN Tech Support', 'DE Tech Support', 'IVR Deutsch', 'DE Emergency', 'EN Emergency'])], index=['start_weekday','name_num'], values='id', aggfunc='count', margins=True)\n",
    "calls_per_weekday"
   ]
  },
  {
   "cell_type": "markdown",
   "id": "4c749500-c794-40ed-b5d8-9f2e858cabc5",
   "metadata": {},
   "source": [
    "## Weekly Calls per Calendarweek (KW)"
   ]
  },
  {
   "cell_type": "code",
   "execution_count": 38,
   "id": "448960e4-2557-4602-820f-615e35d4a266",
   "metadata": {},
   "outputs": [
    {
     "name": "stdout",
     "output_type": "stream",
     "text": [
      "Weekly Calls per Calendarweek (KW) 2024-07-01 07:00:00 and 2024-07-31 23:00:00\n"
     ]
    }
   ],
   "source": [
    "## Number of calls per Calendarweek\n",
    "print(f'Weekly Calls per Calendarweek (KW) {datetime.fromtimestamp(starttime)} and {datetime.fromtimestamp(endtime)}')\n",
    "weekly_calls_per_hotline = pd.pivot_table(hotlines_df[hotlines_df['name_num'].isin(['EN Tech Support', 'DE Tech Support', 'IVR Deutsch', 'DE Emergency', 'EN Emergency'])], index=['name_num','start_calendarweek'], values='id', aggfunc='count', margins=True)\n",
    "weekly_calls_per_hotline"
   ]
  },
  {
   "cell_type": "markdown",
   "id": "fd52c169-5155-4629-9405-30d848b705d5",
   "metadata": {},
   "source": [
    "### How many calls per weekday (All Hotlines)?"
   ]
  },
  {
   "cell_type": "code",
   "execution_count": 39,
   "id": "13cad5f8-873c-4093-aaf7-7cbbe8681d00",
   "metadata": {},
   "outputs": [],
   "source": [
    "# print(f'Weekly Calls per Day of the Week {datetime.fromtimestamp(starttime)} and {datetime.fromtimestamp(endtime)}')\n",
    "# pd.pivot_table(hotlines_df, index=['start_weekday','name_num'], values='id', aggfunc='count', margins=True)"
   ]
  },
  {
   "cell_type": "markdown",
   "id": "d57368bf-534e-4812-9732-11f6f5e48208",
   "metadata": {},
   "source": [
    "### Average duration of calls on the support hotline"
   ]
  },
  {
   "cell_type": "code",
   "execution_count": 40,
   "id": "6b977d52-2b24-4d93-9377-3f3d8ea534e1",
   "metadata": {},
   "outputs": [],
   "source": [
    "inbound_avg = np.round(calls[(calls['name_num'] == 'DE Tech Support') &  (calls['direction'] == 'inbound')]['duration'].mean()/60, 2)\n",
    "outbound_avg = np.round(calls[(calls['name_num'] == 'DE Tech Support') &  (calls['direction'] == 'outbound')]['duration'].mean()/60, 2)\n",
    "# print(f'Average duration of inbound calls: {inbound_avg} minutes \\nAverage duration of outbound calls: {outbound_avg} minutes \\nTimeframe between {datetime.fromtimestamp(starttime)} and {datetime.fromtimestamp(endtime)}')\n",
    "\n",
    "\n",
    "d = {'Average duration of calls': ['Inbound calls', 'Outbound calls'], 'Time in minutes': [inbound_avg,outbound_avg]}\n",
    "avg_duration_of_calls = pd.DataFrame(d)\n",
    "avg_duration_of_calls"
   ]
  },
  {
   "cell_type": "markdown",
   "id": "a5fe70c6-d754-4d8a-918a-2d43209304ce",
   "metadata": {},
   "source": [
    "### Missed Calls"
   ]
  },
  {
   "cell_type": "code",
   "execution_count": 42,
   "id": "363cf1cc-b0f2-4ee7-9f90-6b1580d89bcd",
   "metadata": {
    "scrolled": true
   },
   "outputs": [
    {
     "name": "stdout",
     "output_type": "stream",
     "text": [
      "Missed calls between2024-07-01 07:00:00 and 2024-07-31 23:00:00\n"
     ]
    }
   ],
   "source": [
    "piv_call_missed = pd.pivot_table(calls, index='start_day', columns='missed_call_reason', values='id', aggfunc='count', margins=True)\n",
    "print(f'Missed calls between{datetime.fromtimestamp(starttime)} and {datetime.fromtimestamp(endtime)}')\n",
    "piv_call_missed"
   ]
  },
  {
   "cell_type": "markdown",
   "id": "b66d22ec-c4ac-41c7-8779-9bcfe2027573",
   "metadata": {},
   "source": [
    "### Missed calls per team-hotline"
   ]
  },
  {
   "cell_type": "code",
   "execution_count": 43,
   "id": "3e56450c-ea07-46ba-ace1-e59a10834989",
   "metadata": {},
   "outputs": [
    {
     "name": "stdout",
     "output_type": "stream",
     "text": [
      "Missed Calls per Hotline Number between 2024-07-01 07:00:00 and 2024-07-31 23:00:00\n"
     ]
    }
   ],
   "source": [
    "## Pivot Table \n",
    "piv_missed_team = pd.pivot_table(hotlines_df, index='name_num', columns='missed_call_reason', values='id', aggfunc='count', margins=True)\n",
    "print(f'Missed Calls per Hotline Number between {datetime.fromtimestamp(starttime)} and {datetime.fromtimestamp(endtime)}')\n",
    "piv_missed_by_team = piv_missed_team.fillna('-')\n",
    "piv_missed_by_team"
   ]
  },
  {
   "cell_type": "markdown",
   "id": "0bcf63f7-c6c8-4b46-9163-1cdd34487276",
   "metadata": {},
   "source": [
    "### List of missed calls on the support-hotline"
   ]
  },
  {
   "cell_type": "code",
   "execution_count": 44,
   "id": "e796e7ef-6d61-4ea1-b6ab-5f5b0e0ad83c",
   "metadata": {},
   "outputs": [],
   "source": [
    "support_missed_df = hotlines_df[(hotlines_df['name_num'] == 'DE Tech Support') & (hotlines_df['missed_call_reason'] =='agents_did_not_answer')]\n",
    "df_support_calls_missed = support_missed_df[['id','name_num','call_start_at','call_ansered_at','call_end_at','raw_digits','country_code_a2','start_day','duration_minutes', 'start_hour']]\n",
    "df_support_calls_missed"
   ]
  },
  {
   "cell_type": "markdown",
   "id": "0e6c4bfd-067f-436d-ae6c-bbade0fbab90",
   "metadata": {},
   "source": [
    "## Missed Calls during which hour?"
   ]
  },
  {
   "cell_type": "code",
   "execution_count": 45,
   "id": "0311013f-ef08-4e64-b23d-f70b6bac4638",
   "metadata": {},
   "outputs": [
    {
     "name": "stdout",
     "output_type": "stream",
     "text": [
      "Calls per Hour of the Day between 2024-07-01 07:00:00 and 2024-07-31 23:00:00\n"
     ]
    }
   ],
   "source": [
    "# during which hours do we miss most of the calls in support?\n",
    "print(f'Calls per Hour of the Day between {datetime.fromtimestamp(starttime)} and {datetime.fromtimestamp(endtime)}')\n",
    "df_missed_calls_hour = pd.pivot_table(support_missed_df, index='start_hour', values='duration_minutes', aggfunc='count', margins=True)\n",
    "df_missed_calls_hour"
   ]
  },
  {
   "cell_type": "code",
   "execution_count": 46,
   "id": "f1f6b120-6d9c-4bb5-8a48-ef7fe7cd1f79",
   "metadata": {},
   "outputs": [],
   "source": [
    "# Summarize all data in an Excel Sheet\n",
    "\n",
    "def create_excel_output(): \n",
    "    ## Create Summary Table\n",
    "    summary_dict = {\n",
    "        'sheet name': ['number_of_hotline_calls',\n",
    "                       'support_outbound_calls',\n",
    "                       'calls_per_hours',\n",
    "                       'calls_per_weekday',\n",
    "                       'weekly_calls_per_hotline',\n",
    "                       'avg_duration_of_calls',\n",
    "                       'piv_call_missed',\n",
    "                       'calls_missed_by_team',\n",
    "                       'df_support_calls_missed',\n",
    "                       'df_missed_calls_hour'                   \n",
    "                      ],\n",
    "        'topic':['How many calls does each hotline receive?',\n",
    "                 'List of outbound calls on the support-hotline',\n",
    "                 'During wich hour do we receive the most calls?',\n",
    "                 'How many calls per weekday?',\n",
    "                 'Weekly Calls per Calendarweek (KW)',\n",
    "                'Average duration of calls on the support hotline',\n",
    "                 f'Missed Calls between {datetime.fromtimestamp(starttime)} and {datetime.fromtimestamp(endtime)}',\n",
    "                 f'Missed Calls per Hotline Number between {datetime.fromtimestamp(starttime)} and {datetime.fromtimestamp(endtime)}',\n",
    "                 'List of missed calls on the support-hotline',\n",
    "                'Missed Calls during which hour?' \n",
    "                ]\n",
    "    }\n",
    "    summary_df = pd.DataFrame(data=summary_dict)\n",
    "    \n",
    "    \n",
    "    ## Create Excel Sheet\n",
    "    \n",
    "    with pd.ExcelWriter('output.xlsx') as writer:  \n",
    "        summary_df.to_excel(writer, sheet_name='Summary')\n",
    "        piv_hotline_calls.fillna('-').to_excel(writer, sheet_name='number_of_hotline_calls')\n",
    "        only_support[only_support['direction']=='outbound'].to_excel(writer, sheet_name='support_outbound_calls')\n",
    "        calls_per_hours.to_excel(writer, sheet_name='calls_per_hour')\n",
    "        calls_per_weekday.to_excel(writer, sheet_name='calls_per_weekday')\n",
    "        weekly_calls_per_hotline.to_excel(writer, sheet_name='weekly_calls_per_hotline')\n",
    "        avg_duration_of_calls.to_excel(writer, sheet_name='avg_duration_of_calls')\n",
    "        piv_call_missed.to_excel(writer, sheet_name='all_calls_missed')\n",
    "        piv_missed_by_team.to_excel(writer, sheet_name='all_calls_missed')\n",
    "        df_support_calls_missed.to_excel(writer, sheet_name='calls_missed_by_team')\n",
    "        df_missed_calls_hour.to_excel(writer, sheet_name='missed_calls_per_hour')"
   ]
  },
  {
   "cell_type": "code",
   "execution_count": 47,
   "id": "5f9897e4-fe37-4c5f-9036-76cb3a441ac7",
   "metadata": {},
   "outputs": [],
   "source": [
    "# create_excel_output()"
   ]
  },
  {
   "cell_type": "markdown",
   "id": "b3f693c2-fd11-412d-9374-6546ea329697",
   "metadata": {},
   "source": [
    "# Finished"
   ]
  }
 ],
 "metadata": {
  "kernelspec": {
   "display_name": "Python 3 (ipykernel)",
   "language": "python",
   "name": "python3"
  },
  "language_info": {
   "codemirror_mode": {
    "name": "ipython",
    "version": 3
   },
   "file_extension": ".py",
   "mimetype": "text/x-python",
   "name": "python",
   "nbconvert_exporter": "python",
   "pygments_lexer": "ipython3",
   "version": "3.12.4"
  }
 },
 "nbformat": 4,
 "nbformat_minor": 5
}
